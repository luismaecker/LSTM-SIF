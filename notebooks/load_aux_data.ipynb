{
 "cells": [
  {
   "cell_type": "code",
   "execution_count": null,
   "metadata": {},
   "outputs": [],
   "source": [
    "import os\n",
    "import rioxarray as rio\n",
    "import matplotlib.pyplot as plt\n",
    "import geopandas as gpd\n",
    "import ee\n",
    "import geemap\n",
    "from utils import create_paths"
   ]
  },
  {
   "cell_type": "markdown",
   "metadata": {},
   "source": [
    "# Functions"
   ]
  },
  {
   "cell_type": "code",
   "execution_count": null,
   "metadata": {},
   "outputs": [],
   "source": [
    "\n",
    "# Initialize GEE\n",
    "def initialize_gee():\n",
    "    ee.Authenticate(force=False)\n",
    "    ee.Initialize(opt_url='https://earthengine-highvolume.googleapis.com', project='ee-forest-health')\n",
    "\n",
    "\n",
    "# Download German border data\n",
    "def download_german_border(path, download=False):\n",
    "\n",
    "    print(\"Downloading German border data...\")\n",
    "\n",
    "    germany = ee.FeatureCollection('FAO/GAUL/2015/level0').filter(ee.Filter.eq('ADM0_NAME', 'Germany'))\n",
    "       \n",
    "    germany_geometry = germany.geometry()\n",
    "\n",
    "    if download:\n",
    "        geemap.ee_export_vector(germany, filename=path)\n",
    "\n",
    "    print(100 * \"-\")\n",
    "\n",
    "    return germany_geometry\n",
    "\n",
    "\n",
    "# Download and preprocess Corine data\n",
    "def load_corine(path, region, download=True):\n",
    "\n",
    "    print(\"Processing Corine data...\")\n",
    "\n",
    "    landcover_collection = ee.ImageCollection('COPERNICUS/CORINE/V20/100m')\n",
    "\n",
    "    # get landcover data for 2000\n",
    "    landcover_year = landcover_collection.filterDate(f'1999-01-01', f'2000-12-31').first()\n",
    "\n",
    "    # only keep forest classes (311, 312, 313: broadleaf, coniferous, mixed)\n",
    "    zones = ee.Image(0) \\\n",
    "        .where(landcover_year.eq(311), 311) \\\n",
    "        .where(landcover_year.eq(312), 312) \\\n",
    "        .where(landcover_year.eq(313), 313)\n",
    "\n",
    "    print(\"Downloading Corine data\")\n",
    "\n",
    "    if download:\n",
    "        geemap.ee_export_image(zones, filename=path, crs=\"EPSG:4326\", scale=500, region=region)\n",
    "\n",
    "    print(100 * \"-\")\n",
    "\n",
    "\n",
    "# Create sif sample tif for spatial resolution and transform\n",
    "def create_sif_sample(out_path, cube_subset, write=True):\n",
    "\n",
    "    cube_sample = cube_subset[\"sif_gosif\"].isel(time=0)\n",
    "\n",
    "    if write:\n",
    "        cube_sample.rio.to_raster(out_path)\n",
    "\n",
    "    print(\"Sample path created at:\", out_path)\n",
    "\n",
    "    print(100 * \"-\")"
   ]
  },
  {
   "cell_type": "markdown",
   "metadata": {},
   "source": [
    "## Setup"
   ]
  },
  {
   "cell_type": "code",
   "execution_count": null,
   "metadata": {},
   "outputs": [],
   "source": [
    "from utils import create_cube_subset\n",
    "\n",
    "data_path = \"data\""
   ]
  },
  {
   "cell_type": "code",
   "execution_count": null,
   "metadata": {},
   "outputs": [],
   "source": [
    "# Initialize GEE\n",
    "initialize_gee()\n",
    "\n",
    "# Create file paths and if they dont exist folders\n",
    "germany_shp_path, corine_file_path, tif_sample_path, _, _ = create_paths(data_path=data_path)"
   ]
  },
  {
   "cell_type": "markdown",
   "metadata": {},
   "source": [
    "# Download the data "
   ]
  },
  {
   "cell_type": "code",
   "execution_count": null,
   "metadata": {},
   "outputs": [],
   "source": [
    "german_geometry = download_german_border(download=download, path=germany_shp_path)\n",
    "\n",
    "# Download and preprocess Corine data and use germany_geometry to define the AOI\n",
    "load_corine(path=corine_file_path, region=german_geometry, download=download)\n",
    "\n",
    "# Create sif sample tif\n",
    "create_sif_sample(out_path = tif_sample_path, cube_subset= cube_subset, write=download)"
   ]
  }
 ],
 "metadata": {
  "language_info": {
   "name": "python"
  }
 },
 "nbformat": 4,
 "nbformat_minor": 2
}
