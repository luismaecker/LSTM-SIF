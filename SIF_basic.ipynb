{
 "cells": [
  {
   "cell_type": "code",
   "execution_count": 1,
   "id": "4720f722-02b5-41f5-b36d-e10043b26123",
   "metadata": {
    "tags": []
   },
   "outputs": [],
   "source": [
    "from xcube.core.store import new_data_store\n",
    "store = new_data_store(\"s3\", root=\"deep-esdl-public\", storage_options=dict(anon=True))\n",
    "ds = store.open_data('esdc-8d-0.25deg-1x720x1440-3.0.1.zarr')"
   ]
  },
  {
   "cell_type": "code",
   "execution_count": 2,
   "id": "df8962fa",
   "metadata": {
    "tags": []
   },
   "outputs": [],
   "source": [
    "variables = [\"sif_gosif\", \"evaporation_era5\", \"precipitation_era5\", \"radiation_era5\", \"air_temperature_2m\", \"max_air_temperature_2m\", \"min_air_temperature_2m\"]"
   ]
  },
  {
   "cell_type": "code",
   "execution_count": 3,
   "id": "9eceed9e-2ec2-4b91-80eb-20201c6312af",
   "metadata": {
    "tags": []
   },
   "outputs": [
    {
     "ename": "NameError",
     "evalue": "name 'lat_bounds' is not defined",
     "output_type": "error",
     "traceback": [
      "\u001b[0;31m---------------------------------------------------------------------------\u001b[0m",
      "\u001b[0;31mNameError\u001b[0m                                 Traceback (most recent call last)",
      "Cell \u001b[0;32mIn[3], line 1\u001b[0m\n\u001b[0;32m----> 1\u001b[0m ds_selected \u001b[38;5;241m=\u001b[39m ds[variables]\u001b[38;5;241m.\u001b[39msel(time\u001b[38;5;241m=\u001b[39m\u001b[38;5;28mslice\u001b[39m(\u001b[38;5;124m\"\u001b[39m\u001b[38;5;124m2001-01-05T00:00:00.000000000\u001b[39m\u001b[38;5;124m\"\u001b[39m,\u001b[38;5;124m\"\u001b[39m\u001b[38;5;124m2020-12-30T00:00:00.000000000\u001b[39m\u001b[38;5;124m\"\u001b[39m),lat\u001b[38;5;241m=\u001b[39m\u001b[43mlat_bounds\u001b[49m, lon\u001b[38;5;241m=\u001b[39mlon_bounds )\n\u001b[1;32m      3\u001b[0m \u001b[38;5;66;03m# Define the geographical bounds for Central Europe (approximate)\u001b[39;00m\n\u001b[1;32m      4\u001b[0m lat_bounds \u001b[38;5;241m=\u001b[39m \u001b[38;5;28mslice\u001b[39m(\u001b[38;5;241m30\u001b[39m, \u001b[38;5;241m60\u001b[39m)  \u001b[38;5;66;03m# Latitude range\u001b[39;00m\n",
      "\u001b[0;31mNameError\u001b[0m: name 'lat_bounds' is not defined"
     ]
    }
   ],
   "source": [
    "ds_selected = ds[variables].sel(time=slice(\"2001-01-05T00:00:00.000000000\",\"2020-12-30T00:00:00.000000000\"),lat=lat_bounds, lon=lon_bounds )\n",
    "\n",
    "# Define the geographical bounds for Central Europe (approximate)\n",
    "lat_bounds = slice(30, 60)  # Latitude range\n",
    "lon_bounds = slice(-10, 30)  # Longitude range\n",
    "\n",
    "# Select the specific region and variable\n",
    "central_europe_sif = ds_step['sif_gosif'].sel(lat=lat_bounds, lon=lon_bounds)\n",
    "ds_selected"
   ]
  },
  {
   "cell_type": "code",
   "execution_count": 10,
   "id": "d1b728cb-d912-445b-80e0-662d12670163",
   "metadata": {
    "tags": []
   },
   "outputs": [
    {
     "ename": "NameError",
     "evalue": "name 'central_europe_gpp' is not defined",
     "output_type": "error",
     "traceback": [
      "\u001b[0;31m---------------------------------------------------------------------------\u001b[0m",
      "\u001b[0;31mNameError\u001b[0m                                 Traceback (most recent call last)",
      "Cell \u001b[0;32mIn[10], line 9\u001b[0m\n\u001b[1;32m      7\u001b[0m \u001b[38;5;66;03m# Plotting\u001b[39;00m\n\u001b[1;32m      8\u001b[0m plt\u001b[38;5;241m.\u001b[39mfigure(figsize\u001b[38;5;241m=\u001b[39m(\u001b[38;5;241m10\u001b[39m, \u001b[38;5;241m8\u001b[39m))\n\u001b[0;32m----> 9\u001b[0m \u001b[43mcentral_europe_gpp\u001b[49m\u001b[38;5;241m.\u001b[39mplot(cmap\u001b[38;5;241m=\u001b[39m\u001b[38;5;124m'\u001b[39m\u001b[38;5;124mviridis\u001b[39m\u001b[38;5;124m'\u001b[39m)\n\u001b[1;32m     10\u001b[0m plt\u001b[38;5;241m.\u001b[39mtitle(\u001b[38;5;124m'\u001b[39m\u001b[38;5;124msif_gosif on 2001-01-05\u001b[39m\u001b[38;5;124m'\u001b[39m)\n\u001b[1;32m     11\u001b[0m plt\u001b[38;5;241m.\u001b[39mxlabel(\u001b[38;5;124m'\u001b[39m\u001b[38;5;124mLongitude\u001b[39m\u001b[38;5;124m'\u001b[39m)\n",
      "\u001b[0;31mNameError\u001b[0m: name 'central_europe_gpp' is not defined"
     ]
    },
    {
     "data": {
      "text/plain": [
       "<Figure size 1000x800 with 0 Axes>"
      ]
     },
     "metadata": {},
     "output_type": "display_data"
    }
   ],
   "source": [
    "import xarray as xr\n",
    "import matplotlib.pyplot as plt\n",
    "ds_step = ds_selected.sel(time=\"2001-01-05T00:00:00.000000000\")\n",
    "\n",
    "\n",
    "\n",
    "# Plotting\n",
    "plt.figure(figsize=(10, 8))\n",
    "central_europe_gpp.plot(cmap='viridis')\n",
    "plt.title('sif_gosif on 2001-01-05')\n",
    "plt.xlabel('Longitude')\n",
    "plt.ylabel('Latitude')\n",
    "plt.show()\n"
   ]
  },
  {
   "cell_type": "code",
   "execution_count": null,
   "id": "96f8b5c7",
   "metadata": {},
   "outputs": [],
   "source": []
  }
 ],
 "metadata": {
  "kernelspec": {
   "display_name": ".conda-sif_env",
   "language": "python",
   "name": "conda-env-.conda-sif_env-py"
  },
  "language_info": {
   "codemirror_mode": {
    "name": "ipython",
    "version": 3
   },
   "file_extension": ".py",
   "mimetype": "text/x-python",
   "name": "python",
   "nbconvert_exporter": "python",
   "pygments_lexer": "ipython3",
   "version": "3.11.9"
  },
  "vscode": {
   "interpreter": {
    "hash": "2c70c7b3ad991ebe0ad07a87a57f2eb4a988c6ebbcc7e14caba0fb1129ea54bd"
   }
  }
 },
 "nbformat": 4,
 "nbformat_minor": 5
}
