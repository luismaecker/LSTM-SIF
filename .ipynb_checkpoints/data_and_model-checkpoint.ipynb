{
 "cells": [
  {
   "cell_type": "markdown",
   "metadata": {},
   "source": [
    "# Packages"
   ]
  },
  {
   "cell_type": "code",
   "execution_count": null,
   "metadata": {},
   "outputs": [],
   "source": [
    "import xcube\n",
    "import xarray as xr\n",
    "import numpy as np\n",
    "import pandas as pd\n",
    "import matplotlib.pyplot as plt\n",
    "import regionmask\n",
    "import seaborn as sns\n",
    "from scalecast.Forecaster import Forecaster\n",
    "from scalecast.SeriesTransformer import SeriesTransformer\n",
    "from sklearn.preprocessing import MinMaxScaler\n",
    "\n",
    "from xcube.core.store import new_data_store\n",
    "\n",
    "import pandas as pd\n",
    "import numpy as np\n",
    "from sklearn.preprocessing import MinMaxScaler\n",
    "from keras.models import Sequential\n",
    "from keras.layers import Dense, LSTM, Dropout\n",
    "from keras.callbacks import EarlyStopping\n",
    "from sklearn.metrics import mean_squared_error, mean_absolute_error\n",
    "import matplotlib.pyplot as plt"
   ]
  },
  {
   "cell_type": "markdown",
   "metadata": {},
   "source": [
    "# Functions"
   ]
  },
  {
   "cell_type": "code",
   "execution_count": null,
   "metadata": {},
   "outputs": [],
   "source": [
    "\n",
    "# Function to convert a time series dataset into a format suitable for LSTM\n",
    "def convert2matrix(data_arr, look_back):\n",
    "    X, Y = [], []\n",
    "    for i in range(len(data_arr) - look_back):\n",
    "        d = i + look_back  \n",
    "        X.append(data_arr[i:d, :])  # Features: data points from i to d (exclusive)\n",
    "        Y.append(data_arr[d, -1])  # Target: the value at the d-th position (assumes target is the last column)\n",
    "    return np.array(X), np.array(Y)"
   ]
  },
  {
   "cell_type": "code",
   "execution_count": null,
   "metadata": {},
   "outputs": [],
   "source": [
    "\n",
    "# Evaluation function for model performance\n",
    "def evaluate_model(true_values, predicted_values, data_type='Train'):\n",
    "    \"\"\"\n",
    "    Evaluates the model performance by calculating RMSE and MAE.\n",
    "\n",
    "    Parameters:\n",
    "    true_values (np.array): Array of true values.\n",
    "    predicted_values (np.array): Array of predicted values.\n",
    "    data_type (str): Type of data being evaluated (Train/Test). Default is 'Train'.\n",
    "\n",
    "    Returns:\n",
    "    None\n",
    "    \"\"\"\n",
    "    rmse = np.sqrt(mean_squared_error(true_values, predicted_values))\n",
    "    mae = mean_absolute_error(true_values, predicted_values)\n",
    "    print(f'{data_type} Root Mean Squared Error (RMSE): {rmse:.2f}')\n",
    "    print(f'{data_type} Mean Absolute Error (MAE): {mae:.2f}')\n"
   ]
  },
  {
   "cell_type": "markdown",
   "metadata": {},
   "source": [
    "# Data Setup"
   ]
  },
  {
   "cell_type": "markdown",
   "metadata": {},
   "source": [
    "### Load and subset cube"
   ]
  },
  {
   "cell_type": "code",
   "execution_count": null,
   "metadata": {},
   "outputs": [],
   "source": [
    "store = new_data_store(\"s3\", root=\"deep-esdl-public\", storage_options=dict(anon=True))\n",
    "store.list_data_ids()\n",
    "\n",
    "\n",
    "cube = store.open_data( 'esdc-8d-0.25deg-256x128x128-3.0.1.zarr')\n",
    "\n",
    "cube = cube.sel(time=slice('2002-01-01','2021-12-31'))\n",
    "\n",
    "lon_min, lon_max = 5.866, 15.042\n",
    "lat_min, lat_max = 47.270, 55.058\n",
    "\n",
    "cube_ger = cube.sel(lon=slice(lon_min, lon_max), lat=slice(lat_min, lat_max))"
   ]
  },
  {
   "cell_type": "markdown",
   "metadata": {},
   "source": [
    "# LSTM one time series "
   ]
  },
  {
   "cell_type": "markdown",
   "metadata": {},
   "source": [
    "## Subset Data"
   ]
  },
  {
   "cell_type": "code",
   "execution_count": null,
   "metadata": {},
   "outputs": [],
   "source": [
    "variables = [\"evaporation_era5\",\n",
    "            \"precipitation_era5\", \n",
    "            \"radiation_era5\", \n",
    "            \"air_temperature_2m\", \n",
    "            \"max_air_temperature_2m\", \n",
    "            \"min_air_temperature_2m\",\n",
    "            \"sif_gosif\"]\n",
    "\n",
    "ts_two = cube_ger[variables].isel(lat=4, lon=12).to_dataframe()\n"
   ]
  },
  {
   "cell_type": "markdown",
   "metadata": {},
   "source": [
    "## train and test split"
   ]
  },
  {
   "cell_type": "code",
   "execution_count": null,
   "metadata": {},
   "outputs": [],
   "source": [
    "data = ts_two"
   ]
  },
  {
   "cell_type": "code",
   "execution_count": null,
   "metadata": {},
   "outputs": [],
   "source": [
    "# Load your data into a pandas DataFrame (assuming 'data' is already available)\n",
    "# Select relevant features including the target variable\n",
    "features = variables\n",
    "data = data[features]\n",
    "\n",
    "# Convert the data to float32 type for compatibility with Keras\n",
    "data = data.astype('float32')\n",
    "\n",
    "# Normalize the data to the range [0, 1] for better LSTM performance\n",
    "scaler = MinMaxScaler(feature_range=(0, 1))\n",
    "data_scaled = scaler.fit_transform(data)\n",
    "\n",
    "# Split the data into training and testing sets based on the year\n",
    "train_data = data[data.index.year <= 2017]\n",
    "test_data = data[(data.index.year == 2018) | (data.index.year == 2019)]\n",
    "\n",
    "train_size = len(train_data)\n",
    "test_size = len(test_data)\n",
    "\n",
    "train, test = data_scaled[:train_size, :], data_scaled[train_size:train_size + test_size, :]\n",
    "\n",
    "# Set look_back period, which is the number of previous time steps to use as input features\n",
    "look_back = 30\n",
    "\n",
    "# Convert the training and testing data to the required format for LSTM\n",
    "trainX, trainY = convert2matrix(train, look_back)\n",
    "testX, testY = convert2matrix(test, look_back)\n",
    "\n",
    "# Reshape input to be [samples, time steps, features]\n",
    "# For LSTM, input shape should be (number of samples, look_back, number of features)\n",
    "trainX = np.reshape(trainX, (trainX.shape[0], trainX.shape[1], trainX.shape[2]))\n",
    "testX = np.reshape(testX, (testX.shape[0], testX.shape[1], testX.shape[2]))\n"
   ]
  },
  {
   "cell_type": "markdown",
   "metadata": {},
   "source": [
    "## Model and predict"
   ]
  },
  {
   "cell_type": "code",
   "execution_count": null,
   "metadata": {},
   "outputs": [],
   "source": [
    "\n",
    "# Define the LSTM model\n",
    "def model_lstm(look_back, features):\n",
    "    model = Sequential()\n",
    "    # LSTM layer with 100 units, input_shape specifies the time steps and features\n",
    "    model.add(LSTM(100, input_shape=(look_back, features), activation='relu'))\n",
    "    # Dense layer with 1 unit for the output (predicting one value)\n",
    "    model.add(Dense(1))\n",
    "    # Compile the model with mean squared error loss and Adam optimizer\n",
    "    model.compile(loss='mean_squared_error', optimizer='adam', metrics=['mse', 'mae'])\n",
    "    return model\n",
    "\n",
    "# Number of features (excluding the target variable for reshaping purposes)\n",
    "num_features = trainX.shape[2]\n",
    "\n",
    "# Build the LSTM model\n",
    "model = model_lstm(look_back, num_features)\n",
    "\n",
    "# Train the model\n",
    "history = model.fit(trainX, trainY, epochs=100, batch_size=30, validation_data=(testX, testY), \n",
    "                    callbacks=[EarlyStopping(monitor='val_loss', patience=10)], verbose=1, shuffle=False)\n",
    "\n",
    "# Predict SIF values for the test data\n",
    "test_predict = model.predict(testX)\n",
    "\n",
    "train_predict = model.predict(trainX)"
   ]
  },
  {
   "cell_type": "markdown",
   "metadata": {},
   "source": [
    "## Plot"
   ]
  },
  {
   "cell_type": "code",
   "execution_count": null,
   "metadata": {},
   "outputs": [],
   "source": [
    "evaluate_model(trainY, train_predict[:, 0], 'Train')\n",
    "evaluate_model(testY, test_predict[:, 0], 'Test')\n",
    "\n",
    "# Plot the true vs predicted SIF values for the test data\n",
    "plt.figure(figsize=(14, 7))\n",
    "plt.plot(range(len(testY)), testY, label='True SIF')\n",
    "plt.plot(range(len(test_predict)), test_predict, label='Predicted SIF')\n",
    "plt.legend()\n",
    "plt.show()\n"
   ]
  },
  {
   "cell_type": "markdown",
   "metadata": {},
   "source": [
    "# Model multiple timeseries"
   ]
  },
  {
   "cell_type": "markdown",
   "metadata": {},
   "source": [
    "## Subset Data"
   ]
  },
  {
   "cell_type": "code",
   "execution_count": null,
   "metadata": {},
   "outputs": [],
   "source": [
    "#TODO: Fix\n",
    "\n",
    "variables = [\"evaporation_era5\",\n",
    "            \"precipitation_era5\", \n",
    "            \"radiation_era5\", \n",
    "            \"air_temperature_2m\", \n",
    "            \"max_air_temperature_2m\", \n",
    "            \"min_air_temperature_2m\",\n",
    "            \"sif_gosif\"]\n",
    "\n",
    "# Initialize an empty list to hold all time series data\n",
    "all_data_list = []\n",
    "\n",
    "# Iterate over a selection of lat and lon points within the bounds\n",
    "for lat in range(0, cube_ger.lat.size, 5):  # adjust step as necessary\n",
    "    for lon in range(0, cube_ger.lon.size, 5):  # adjust step as necessary\n",
    "        ts = cube_ger[variables].isel(lat=lat, lon=lon).to_dataframe()\n",
    "        all_data_list.append(ts)\n",
    "\n",
    "# Concatenate all the dataframes in the list into a single DataFrame\n",
    "#all_data = pd.concat(all_data_list)"
   ]
  },
  {
   "cell_type": "code",
   "execution_count": 75,
   "metadata": {},
   "outputs": [],
   "source": [
    "# Reset index to have a single time index\n",
    "all_data.reset_index(inplace=True)\n",
    "\n",
    "# Filter the data for the years of interest and sort by time\n",
    "all_data = all_data[all_data['time'].dt.year <= 2019]\n",
    "all_data.sort_values('time', inplace=True)\n",
    "\n",
    "# remove nan \n",
    "all_data = all_data.replace([np.inf, -np.inf], np.nan).dropna()\n",
    "\n",
    "# Convert the numerical columns to float32 type for compatibility with Keras\n",
    "all_data[variables] = all_data[variables].astype('float32')"
   ]
  },
  {
   "cell_type": "code",
   "execution_count": 76,
   "metadata": {},
   "outputs": [
    {
     "data": {
      "text/plain": [
       "(42228, 11)"
      ]
     },
     "execution_count": 76,
     "metadata": {},
     "output_type": "execute_result"
    }
   ],
   "source": [
    "all_data.shape"
   ]
  },
  {
   "cell_type": "code",
   "execution_count": 88,
   "metadata": {},
   "outputs": [
    {
     "data": {
      "text/plain": [
       "array([47.375, 48.625, 54.875, 49.875, 51.125, 52.375, 53.625])"
      ]
     },
     "execution_count": 88,
     "metadata": {},
     "output_type": "execute_result"
    }
   ],
   "source": [
    "all_data.lat.unique()"
   ]
  },
  {
   "cell_type": "code",
   "execution_count": 89,
   "metadata": {},
   "outputs": [
    {
     "data": {
      "text/plain": [
       "array([ 5.875,  7.125,  8.375,  9.625, 10.875, 12.125, 13.375, 14.625])"
      ]
     },
     "execution_count": 89,
     "metadata": {},
     "output_type": "execute_result"
    }
   ],
   "source": [
    "all_data.lon.unique()"
   ]
  },
  {
   "cell_type": "markdown",
   "metadata": {},
   "source": [
    "## train and test split"
   ]
  },
  {
   "cell_type": "code",
   "execution_count": 95,
   "metadata": {},
   "outputs": [
    {
     "name": "stdout",
     "output_type": "stream",
     "text": [
      "Train shape: (35190, 7)\n",
      "Validation shape: (2346, 7)\n",
      "Test shape: (4692, 7)\n",
      "TrainX shape: (35160, 30, 7), TrainY shape: (35160,)\n",
      "ValX shape: (2316, 30, 7), ValY shape: (2316,)\n",
      "TestX shape: (4662, 30, 7), TestY shape: (4662,)\n",
      "Reshaped TrainX shape: (35160, 30, 7)\n",
      "Reshaped ValX shape: (2316, 30, 7)\n",
      "Reshaped TestX shape: (4662, 30, 7)\n"
     ]
    }
   ],
   "source": [
    "\n",
    "\n",
    "# Normalize the data using MinMaxScaler\n",
    "scaler = MinMaxScaler(feature_range=(0, 1))\n",
    "all_data_scaled = scaler.fit_transform(all_data[variables])\n",
    "\n",
    "# Convert the scaled data back to a DataFrame for easier manipulation\n",
    "all_data_scaled = pd.DataFrame(all_data_scaled, columns=variables)\n",
    "all_data_scaled['time'] = all_data['time'].values  # Preserve the time column\n",
    "\n",
    "# Split the data into training, validation, and testing sets based on the year\n",
    "train_data = all_data_scaled[all_data_scaled['time'].dt.year <= 2016]\n",
    "val_data = all_data_scaled[all_data_scaled['time'].dt.year == 2017]\n",
    "test_data = all_data_scaled[all_data_scaled['time'].dt.year >= 2018]\n",
    "\n",
    "# Drop the 'time' column for training, validation, and testing\n",
    "train = train_data.drop(columns=['time']).values\n",
    "val = val_data.drop(columns=['time']).values\n",
    "test = test_data.drop(columns=['time']).values\n",
    "\n",
    "\n",
    "print(f'Train shape: {train.shape}')\n",
    "print(f'Validation shape: {val.shape}')\n",
    "print(f'Test shape: {test.shape}')\n",
    "\n",
    "# Set look_back period\n",
    "look_back = 30\n",
    "\n",
    "# Convert the training, validation, and testing data to the required format for LSTM\n",
    "trainX, trainY = convert2matrix(train, look_back)\n",
    "valX, valY = convert2matrix(val, look_back)\n",
    "testX, testY = convert2matrix(test, look_back)\n",
    "\n",
    "print(f'TrainX shape: {trainX.shape}, TrainY shape: {trainY.shape}')\n",
    "print(f'ValX shape: {valX.shape}, ValY shape: {valY.shape}')\n",
    "print(f'TestX shape: {testX.shape}, TestY shape: {testY.shape}')\n",
    "\n",
    "# Reshape input to be [samples, time steps, features]\n",
    "trainX = np.reshape(trainX, (trainX.shape[0], trainX.shape[1], trainX.shape[2]))\n",
    "valX = np.reshape(valX, (valX.shape[0], valX.shape[1], valX.shape[2]))\n",
    "testX = np.reshape(testX, (testX.shape[0], testX.shape[1], testX.shape[2]))\n",
    "\n",
    "print(f'Reshaped TrainX shape: {trainX.shape}')\n",
    "print(f'Reshaped ValX shape: {valX.shape}')\n",
    "print(f'Reshaped TestX shape: {testX.shape}')"
   ]
  },
  {
   "cell_type": "code",
   "execution_count": 96,
   "metadata": {},
   "outputs": [],
   "source": [
    "# Assuming train, test, val, and all_data are already defined\n",
    "total_rows = train.shape[0] + test.shape[0] + val.shape[0]\n",
    "assert total_rows == all_data.shape[0], f\"The shapes do not match. Sum of train, test, and val rows: {total_rows}, all_data rows: {all_data.shape[0]}\"\n"
   ]
  },
  {
   "cell_type": "code",
   "execution_count": 102,
   "metadata": {},
   "outputs": [
    {
     "data": {
      "text/html": [
       "<div>\n",
       "<style scoped>\n",
       "    .dataframe tbody tr th:only-of-type {\n",
       "        vertical-align: middle;\n",
       "    }\n",
       "\n",
       "    .dataframe tbody tr th {\n",
       "        vertical-align: top;\n",
       "    }\n",
       "\n",
       "    .dataframe thead th {\n",
       "        text-align: right;\n",
       "    }\n",
       "</style>\n",
       "<table border=\"1\" class=\"dataframe\">\n",
       "  <thead>\n",
       "    <tr style=\"text-align: right;\">\n",
       "      <th></th>\n",
       "      <th>evaporation_era5</th>\n",
       "      <th>precipitation_era5</th>\n",
       "      <th>radiation_era5</th>\n",
       "      <th>air_temperature_2m</th>\n",
       "      <th>max_air_temperature_2m</th>\n",
       "      <th>min_air_temperature_2m</th>\n",
       "      <th>sif_gosif</th>\n",
       "      <th>time</th>\n",
       "    </tr>\n",
       "  </thead>\n",
       "  <tbody>\n",
       "    <tr>\n",
       "      <th>0</th>\n",
       "      <td>0.878052</td>\n",
       "      <td>0.000005</td>\n",
       "      <td>0.164872</td>\n",
       "      <td>0.297833</td>\n",
       "      <td>0.232243</td>\n",
       "      <td>0.454734</td>\n",
       "      <td>0.045845</td>\n",
       "      <td>2002-01-05</td>\n",
       "    </tr>\n",
       "    <tr>\n",
       "      <th>1</th>\n",
       "      <td>0.894749</td>\n",
       "      <td>0.000612</td>\n",
       "      <td>0.101477</td>\n",
       "      <td>0.233610</td>\n",
       "      <td>0.169158</td>\n",
       "      <td>0.338098</td>\n",
       "      <td>0.040964</td>\n",
       "      <td>2002-01-05</td>\n",
       "    </tr>\n",
       "    <tr>\n",
       "      <th>2</th>\n",
       "      <td>0.908256</td>\n",
       "      <td>0.001364</td>\n",
       "      <td>0.102782</td>\n",
       "      <td>0.181973</td>\n",
       "      <td>0.148124</td>\n",
       "      <td>0.303614</td>\n",
       "      <td>0.044008</td>\n",
       "      <td>2002-01-05</td>\n",
       "    </tr>\n",
       "    <tr>\n",
       "      <th>3</th>\n",
       "      <td>0.900116</td>\n",
       "      <td>0.002380</td>\n",
       "      <td>0.097997</td>\n",
       "      <td>0.193129</td>\n",
       "      <td>0.131176</td>\n",
       "      <td>0.302193</td>\n",
       "      <td>0.028397</td>\n",
       "      <td>2002-01-05</td>\n",
       "    </tr>\n",
       "    <tr>\n",
       "      <th>4</th>\n",
       "      <td>0.889981</td>\n",
       "      <td>0.004599</td>\n",
       "      <td>0.124639</td>\n",
       "      <td>0.238744</td>\n",
       "      <td>0.161102</td>\n",
       "      <td>0.381557</td>\n",
       "      <td>0.033033</td>\n",
       "      <td>2002-01-05</td>\n",
       "    </tr>\n",
       "    <tr>\n",
       "      <th>5</th>\n",
       "      <td>0.889369</td>\n",
       "      <td>0.006761</td>\n",
       "      <td>0.121108</td>\n",
       "      <td>0.256433</td>\n",
       "      <td>0.150420</td>\n",
       "      <td>0.387712</td>\n",
       "      <td>0.030418</td>\n",
       "      <td>2002-01-05</td>\n",
       "    </tr>\n",
       "    <tr>\n",
       "      <th>6</th>\n",
       "      <td>0.890654</td>\n",
       "      <td>0.011357</td>\n",
       "      <td>0.090473</td>\n",
       "      <td>0.218422</td>\n",
       "      <td>0.150411</td>\n",
       "      <td>0.330718</td>\n",
       "      <td>0.027479</td>\n",
       "      <td>2002-01-05</td>\n",
       "    </tr>\n",
       "    <tr>\n",
       "      <th>7</th>\n",
       "      <td>0.901851</td>\n",
       "      <td>0.008321</td>\n",
       "      <td>0.047281</td>\n",
       "      <td>0.353066</td>\n",
       "      <td>0.278787</td>\n",
       "      <td>0.439957</td>\n",
       "      <td>0.037679</td>\n",
       "      <td>2002-01-05</td>\n",
       "    </tr>\n",
       "    <tr>\n",
       "      <th>8</th>\n",
       "      <td>0.894125</td>\n",
       "      <td>0.020676</td>\n",
       "      <td>0.070295</td>\n",
       "      <td>0.179512</td>\n",
       "      <td>0.143160</td>\n",
       "      <td>0.194775</td>\n",
       "      <td>0.035073</td>\n",
       "      <td>2002-01-05</td>\n",
       "    </tr>\n",
       "    <tr>\n",
       "      <th>9</th>\n",
       "      <td>0.908410</td>\n",
       "      <td>0.003803</td>\n",
       "      <td>0.057919</td>\n",
       "      <td>0.210760</td>\n",
       "      <td>0.175531</td>\n",
       "      <td>0.275482</td>\n",
       "      <td>0.036641</td>\n",
       "      <td>2002-01-05</td>\n",
       "    </tr>\n",
       "    <tr>\n",
       "      <th>10</th>\n",
       "      <td>0.893684</td>\n",
       "      <td>0.002304</td>\n",
       "      <td>0.075368</td>\n",
       "      <td>0.235328</td>\n",
       "      <td>0.175473</td>\n",
       "      <td>0.354163</td>\n",
       "      <td>0.030553</td>\n",
       "      <td>2002-01-05</td>\n",
       "    </tr>\n",
       "    <tr>\n",
       "      <th>11</th>\n",
       "      <td>0.882514</td>\n",
       "      <td>0.000793</td>\n",
       "      <td>0.131376</td>\n",
       "      <td>0.271377</td>\n",
       "      <td>0.213141</td>\n",
       "      <td>0.415978</td>\n",
       "      <td>0.040444</td>\n",
       "      <td>2002-01-05</td>\n",
       "    </tr>\n",
       "    <tr>\n",
       "      <th>12</th>\n",
       "      <td>0.905694</td>\n",
       "      <td>0.004730</td>\n",
       "      <td>0.063162</td>\n",
       "      <td>0.183304</td>\n",
       "      <td>0.158102</td>\n",
       "      <td>0.193056</td>\n",
       "      <td>0.033064</td>\n",
       "      <td>2002-01-05</td>\n",
       "    </tr>\n",
       "    <tr>\n",
       "      <th>13</th>\n",
       "      <td>0.910512</td>\n",
       "      <td>0.011587</td>\n",
       "      <td>0.062229</td>\n",
       "      <td>0.185009</td>\n",
       "      <td>0.151041</td>\n",
       "      <td>0.271171</td>\n",
       "      <td>0.034669</td>\n",
       "      <td>2002-01-05</td>\n",
       "    </tr>\n",
       "    <tr>\n",
       "      <th>14</th>\n",
       "      <td>0.889434</td>\n",
       "      <td>0.009190</td>\n",
       "      <td>0.074912</td>\n",
       "      <td>0.234604</td>\n",
       "      <td>0.170484</td>\n",
       "      <td>0.349891</td>\n",
       "      <td>0.032378</td>\n",
       "      <td>2002-01-05</td>\n",
       "    </tr>\n",
       "    <tr>\n",
       "      <th>15</th>\n",
       "      <td>0.878659</td>\n",
       "      <td>0.021691</td>\n",
       "      <td>0.056418</td>\n",
       "      <td>0.219766</td>\n",
       "      <td>0.182949</td>\n",
       "      <td>0.199989</td>\n",
       "      <td>0.030278</td>\n",
       "      <td>2002-01-05</td>\n",
       "    </tr>\n",
       "    <tr>\n",
       "      <th>16</th>\n",
       "      <td>0.879847</td>\n",
       "      <td>0.004745</td>\n",
       "      <td>0.078639</td>\n",
       "      <td>0.333342</td>\n",
       "      <td>0.243423</td>\n",
       "      <td>0.475980</td>\n",
       "      <td>0.040315</td>\n",
       "      <td>2002-01-05</td>\n",
       "    </tr>\n",
       "    <tr>\n",
       "      <th>17</th>\n",
       "      <td>0.871465</td>\n",
       "      <td>0.008553</td>\n",
       "      <td>0.076852</td>\n",
       "      <td>0.317099</td>\n",
       "      <td>0.207712</td>\n",
       "      <td>0.484805</td>\n",
       "      <td>0.038821</td>\n",
       "      <td>2002-01-05</td>\n",
       "    </tr>\n",
       "    <tr>\n",
       "      <th>18</th>\n",
       "      <td>0.898469</td>\n",
       "      <td>0.014598</td>\n",
       "      <td>0.039214</td>\n",
       "      <td>0.254868</td>\n",
       "      <td>0.171586</td>\n",
       "      <td>0.383378</td>\n",
       "      <td>0.040205</td>\n",
       "      <td>2002-01-05</td>\n",
       "    </tr>\n",
       "    <tr>\n",
       "      <th>19</th>\n",
       "      <td>0.902827</td>\n",
       "      <td>0.001655</td>\n",
       "      <td>0.047665</td>\n",
       "      <td>0.235438</td>\n",
       "      <td>0.185029</td>\n",
       "      <td>0.354712</td>\n",
       "      <td>0.035924</td>\n",
       "      <td>2002-01-05</td>\n",
       "    </tr>\n",
       "    <tr>\n",
       "      <th>20</th>\n",
       "      <td>0.787484</td>\n",
       "      <td>0.013700</td>\n",
       "      <td>0.051992</td>\n",
       "      <td>0.379162</td>\n",
       "      <td>0.271286</td>\n",
       "      <td>0.543653</td>\n",
       "      <td>0.030131</td>\n",
       "      <td>2002-01-05</td>\n",
       "    </tr>\n",
       "    <tr>\n",
       "      <th>21</th>\n",
       "      <td>0.878694</td>\n",
       "      <td>0.022461</td>\n",
       "      <td>0.044433</td>\n",
       "      <td>0.272362</td>\n",
       "      <td>0.203502</td>\n",
       "      <td>0.294373</td>\n",
       "      <td>0.032715</td>\n",
       "      <td>2002-01-05</td>\n",
       "    </tr>\n",
       "    <tr>\n",
       "      <th>22</th>\n",
       "      <td>0.903303</td>\n",
       "      <td>0.003003</td>\n",
       "      <td>0.122218</td>\n",
       "      <td>0.070666</td>\n",
       "      <td>0.067618</td>\n",
       "      <td>0.168017</td>\n",
       "      <td>0.016106</td>\n",
       "      <td>2002-01-05</td>\n",
       "    </tr>\n",
       "    <tr>\n",
       "      <th>23</th>\n",
       "      <td>0.901250</td>\n",
       "      <td>0.005758</td>\n",
       "      <td>0.071376</td>\n",
       "      <td>0.185545</td>\n",
       "      <td>0.156196</td>\n",
       "      <td>0.189122</td>\n",
       "      <td>0.033340</td>\n",
       "      <td>2002-01-05</td>\n",
       "    </tr>\n",
       "    <tr>\n",
       "      <th>24</th>\n",
       "      <td>0.894496</td>\n",
       "      <td>0.015201</td>\n",
       "      <td>0.121872</td>\n",
       "      <td>0.122284</td>\n",
       "      <td>0.101514</td>\n",
       "      <td>0.182645</td>\n",
       "      <td>0.026542</td>\n",
       "      <td>2002-01-05</td>\n",
       "    </tr>\n",
       "    <tr>\n",
       "      <th>25</th>\n",
       "      <td>0.890430</td>\n",
       "      <td>0.000148</td>\n",
       "      <td>0.122190</td>\n",
       "      <td>0.096720</td>\n",
       "      <td>0.110705</td>\n",
       "      <td>0.227477</td>\n",
       "      <td>0.017411</td>\n",
       "      <td>2002-01-05</td>\n",
       "    </tr>\n",
       "    <tr>\n",
       "      <th>26</th>\n",
       "      <td>0.904638</td>\n",
       "      <td>0.014586</td>\n",
       "      <td>0.110849</td>\n",
       "      <td>0.097634</td>\n",
       "      <td>0.077538</td>\n",
       "      <td>0.211075</td>\n",
       "      <td>0.020063</td>\n",
       "      <td>2002-01-05</td>\n",
       "    </tr>\n",
       "    <tr>\n",
       "      <th>27</th>\n",
       "      <td>0.902846</td>\n",
       "      <td>0.000226</td>\n",
       "      <td>0.113346</td>\n",
       "      <td>0.015654</td>\n",
       "      <td>0.027705</td>\n",
       "      <td>0.107214</td>\n",
       "      <td>0.021275</td>\n",
       "      <td>2002-01-05</td>\n",
       "    </tr>\n",
       "    <tr>\n",
       "      <th>28</th>\n",
       "      <td>0.889811</td>\n",
       "      <td>0.055107</td>\n",
       "      <td>0.029720</td>\n",
       "      <td>0.245532</td>\n",
       "      <td>0.189222</td>\n",
       "      <td>0.222421</td>\n",
       "      <td>0.033438</td>\n",
       "      <td>2002-01-05</td>\n",
       "    </tr>\n",
       "    <tr>\n",
       "      <th>29</th>\n",
       "      <td>0.880756</td>\n",
       "      <td>0.003449</td>\n",
       "      <td>0.053323</td>\n",
       "      <td>0.345852</td>\n",
       "      <td>0.236470</td>\n",
       "      <td>0.471850</td>\n",
       "      <td>0.037841</td>\n",
       "      <td>2002-01-05</td>\n",
       "    </tr>\n",
       "  </tbody>\n",
       "</table>\n",
       "</div>"
      ],
      "text/plain": [
       "    evaporation_era5  precipitation_era5  radiation_era5  air_temperature_2m  \\\n",
       "0           0.878052            0.000005        0.164872            0.297833   \n",
       "1           0.894749            0.000612        0.101477            0.233610   \n",
       "2           0.908256            0.001364        0.102782            0.181973   \n",
       "3           0.900116            0.002380        0.097997            0.193129   \n",
       "4           0.889981            0.004599        0.124639            0.238744   \n",
       "5           0.889369            0.006761        0.121108            0.256433   \n",
       "6           0.890654            0.011357        0.090473            0.218422   \n",
       "7           0.901851            0.008321        0.047281            0.353066   \n",
       "8           0.894125            0.020676        0.070295            0.179512   \n",
       "9           0.908410            0.003803        0.057919            0.210760   \n",
       "10          0.893684            0.002304        0.075368            0.235328   \n",
       "11          0.882514            0.000793        0.131376            0.271377   \n",
       "12          0.905694            0.004730        0.063162            0.183304   \n",
       "13          0.910512            0.011587        0.062229            0.185009   \n",
       "14          0.889434            0.009190        0.074912            0.234604   \n",
       "15          0.878659            0.021691        0.056418            0.219766   \n",
       "16          0.879847            0.004745        0.078639            0.333342   \n",
       "17          0.871465            0.008553        0.076852            0.317099   \n",
       "18          0.898469            0.014598        0.039214            0.254868   \n",
       "19          0.902827            0.001655        0.047665            0.235438   \n",
       "20          0.787484            0.013700        0.051992            0.379162   \n",
       "21          0.878694            0.022461        0.044433            0.272362   \n",
       "22          0.903303            0.003003        0.122218            0.070666   \n",
       "23          0.901250            0.005758        0.071376            0.185545   \n",
       "24          0.894496            0.015201        0.121872            0.122284   \n",
       "25          0.890430            0.000148        0.122190            0.096720   \n",
       "26          0.904638            0.014586        0.110849            0.097634   \n",
       "27          0.902846            0.000226        0.113346            0.015654   \n",
       "28          0.889811            0.055107        0.029720            0.245532   \n",
       "29          0.880756            0.003449        0.053323            0.345852   \n",
       "\n",
       "    max_air_temperature_2m  min_air_temperature_2m  sif_gosif       time  \n",
       "0                 0.232243                0.454734   0.045845 2002-01-05  \n",
       "1                 0.169158                0.338098   0.040964 2002-01-05  \n",
       "2                 0.148124                0.303614   0.044008 2002-01-05  \n",
       "3                 0.131176                0.302193   0.028397 2002-01-05  \n",
       "4                 0.161102                0.381557   0.033033 2002-01-05  \n",
       "5                 0.150420                0.387712   0.030418 2002-01-05  \n",
       "6                 0.150411                0.330718   0.027479 2002-01-05  \n",
       "7                 0.278787                0.439957   0.037679 2002-01-05  \n",
       "8                 0.143160                0.194775   0.035073 2002-01-05  \n",
       "9                 0.175531                0.275482   0.036641 2002-01-05  \n",
       "10                0.175473                0.354163   0.030553 2002-01-05  \n",
       "11                0.213141                0.415978   0.040444 2002-01-05  \n",
       "12                0.158102                0.193056   0.033064 2002-01-05  \n",
       "13                0.151041                0.271171   0.034669 2002-01-05  \n",
       "14                0.170484                0.349891   0.032378 2002-01-05  \n",
       "15                0.182949                0.199989   0.030278 2002-01-05  \n",
       "16                0.243423                0.475980   0.040315 2002-01-05  \n",
       "17                0.207712                0.484805   0.038821 2002-01-05  \n",
       "18                0.171586                0.383378   0.040205 2002-01-05  \n",
       "19                0.185029                0.354712   0.035924 2002-01-05  \n",
       "20                0.271286                0.543653   0.030131 2002-01-05  \n",
       "21                0.203502                0.294373   0.032715 2002-01-05  \n",
       "22                0.067618                0.168017   0.016106 2002-01-05  \n",
       "23                0.156196                0.189122   0.033340 2002-01-05  \n",
       "24                0.101514                0.182645   0.026542 2002-01-05  \n",
       "25                0.110705                0.227477   0.017411 2002-01-05  \n",
       "26                0.077538                0.211075   0.020063 2002-01-05  \n",
       "27                0.027705                0.107214   0.021275 2002-01-05  \n",
       "28                0.189222                0.222421   0.033438 2002-01-05  \n",
       "29                0.236470                0.471850   0.037841 2002-01-05  "
      ]
     },
     "execution_count": 102,
     "metadata": {},
     "output_type": "execute_result"
    }
   ],
   "source": [
    "all_data_scaled[:30]"
   ]
  },
  {
   "cell_type": "markdown",
   "metadata": {},
   "source": [
    "## Model and predict"
   ]
  },
  {
   "cell_type": "code",
   "execution_count": 97,
   "metadata": {},
   "outputs": [],
   "source": [
    "epochs = 3"
   ]
  },
  {
   "cell_type": "code",
   "execution_count": 98,
   "metadata": {},
   "outputs": [
    {
     "name": "stdout",
     "output_type": "stream",
     "text": [
      "Epoch 1/3\n"
     ]
    },
    {
     "name": "stderr",
     "output_type": "stream",
     "text": [
      "/home/luismaecker/.conda/envs/sif_env/lib/python3.11/site-packages/keras/src/layers/rnn/rnn.py:204: UserWarning: Do not pass an `input_shape`/`input_dim` argument to a layer. When using Sequential models, prefer using an `Input(shape)` object as the first layer in the model instead.\n",
      "  super().__init__(**kwargs)\n"
     ]
    },
    {
     "name": "stdout",
     "output_type": "stream",
     "text": [
      "\u001b[1m1099/1099\u001b[0m \u001b[32m━━━━━━━━━━━━━━━━━━━━\u001b[0m\u001b[37m\u001b[0m \u001b[1m10s\u001b[0m 8ms/step - loss: 0.0279 - mae: 0.1191 - mse: 0.0279 - val_loss: 0.0114 - val_mae: 0.0709 - val_mse: 0.0114\n",
      "Epoch 2/3\n",
      "\u001b[1m1099/1099\u001b[0m \u001b[32m━━━━━━━━━━━━━━━━━━━━\u001b[0m\u001b[37m\u001b[0m \u001b[1m9s\u001b[0m 8ms/step - loss: 0.0125 - mae: 0.0753 - mse: 0.0125 - val_loss: 0.0097 - val_mae: 0.0654 - val_mse: 0.0097\n",
      "Epoch 3/3\n",
      "\u001b[1m1099/1099\u001b[0m \u001b[32m━━━━━━━━━━━━━━━━━━━━\u001b[0m\u001b[37m\u001b[0m \u001b[1m9s\u001b[0m 8ms/step - loss: 0.0108 - mae: 0.0699 - mse: 0.0108 - val_loss: 0.0093 - val_mae: 0.0637 - val_mse: 0.0093\n"
     ]
    }
   ],
   "source": [
    "# Define an improved LSTM model\n",
    "def improved_model_lstm(look_back, features):\n",
    "    model = Sequential()\n",
    "    model.add(LSTM(100, return_sequences=True, input_shape=(look_back, features), activation='relu'))\n",
    "    model.add(Dropout(0.2))\n",
    "    #model.add(LSTM(50, return_sequences=True, activation='relu'))\n",
    "    #model.add(Dropout(0.2))\n",
    "   # model.add(LSTM(50, activation='relu'))\n",
    "    #model.add(Dropout(0.2))\n",
    "    model.add(Dense(1))\n",
    "    model.compile(loss='mean_squared_error', optimizer='adam', metrics=['mse', 'mae'])\n",
    "    return model\n",
    "\n",
    "# Number of features\n",
    "num_features = trainX.shape[2]\n",
    "\n",
    "# Build the improved LSTM model\n",
    "model = improved_model_lstm(look_back, num_features)\n",
    "\n",
    "# Train the model\n",
    "history = model.fit(trainX, trainY, epochs=epochs, batch_size=32, validation_data=(valX, valY), \n",
    "                    callbacks=[EarlyStopping(monitor='val_loss', patience=10)], verbose=1, shuffle=False)\n",
    "\n",
    "\n"
   ]
  },
  {
   "cell_type": "markdown",
   "metadata": {},
   "source": [
    "## Plot Training progress"
   ]
  },
  {
   "cell_type": "code",
   "execution_count": 103,
   "metadata": {},
   "outputs": [
    {
     "data": {
      "image/png": "[encoded data removed]",
      "text/plain": [
       "<Figure size 1400x700 with 1 Axes>"
      ]
     },
     "metadata": {},
     "output_type": "display_data"
    }
   ],
   "source": [
    "\n",
    "# Plot training & validation loss values\n",
    "plt.figure(figsize=(14, 7))\n",
    "\n",
    "plt.plot(history.history['mse'], label='Train MSE')\n",
    "plt.plot(history.history['val_mse'], label='Validation MSE')\n",
    "plt.plot(history.history['mae'], label='Train MAE')\n",
    "plt.plot(history.history['val_mae'], label='Validation MAE')\n",
    "plt.title('Model Loss and Metrics')\n",
    "plt.xlabel('Epoch')\n",
    "plt.ylabel('Loss / Metric')\n",
    "plt.legend(loc='upper right')\n",
    "plt.grid(True)\n",
    "plt.show()\n"
   ]
  },
  {
   "cell_type": "markdown",
   "metadata": {},
   "source": [
    "## Predict"
   ]
  },
  {
   "cell_type": "code",
   "execution_count": 104,
   "metadata": {},
   "outputs": [
    {
     "data": {
      "text/plain": [
       "(2316, 30, 7)"
      ]
     },
     "execution_count": 104,
     "metadata": {},
     "output_type": "execute_result"
    }
   ],
   "source": [
    "valX.shape"
   ]
  },
  {
   "cell_type": "code",
   "execution_count": 106,
   "metadata": {},
   "outputs": [
    {
     "name": "stdout",
     "output_type": "stream",
     "text": [
      "\u001b[1m73/73\u001b[0m \u001b[32m━━━━━━━━━━━━━━━━━━━━\u001b[0m\u001b[37m\u001b[0m \u001b[1m0s\u001b[0m 3ms/step\n",
      "\u001b[1m146/146\u001b[0m \u001b[32m━━━━━━━━━━━━━━━━━━━━\u001b[0m\u001b[37m\u001b[0m \u001b[1m0s\u001b[0m 3ms/step\n",
      "ValY shape: (2316,), Val_predict shape: (2316, 30, 1)\n",
      "TestY shape: (4662,), Test_predict shape: (4662, 30, 1)\n",
      "ValY shape: (2316,), Val_predict shape: (2316,)\n",
      "TestY shape: (4662,), Test_predict shape: (4662,)\n"
     ]
    }
   ],
   "source": [
    "#TODO: appky recusive changing to use predictions not true y\n",
    "\n",
    "# Predict SIF values for the validation and test data\n",
    "val_predict = model.predict(valX)\n",
    "test_predict = model.predict(testX)\n",
    "\n",
    "print(f'ValY shape: {valY.shape}, Val_predict shape: {val_predict.shape}')\n",
    "print(f'TestY shape: {testY.shape}, Test_predict shape: {test_predict.shape}')\n",
    "\n",
    "# Flatten the predictions to match the shape of valY and testY\n",
    "val_predict = val_predict[:, -1, 0]\n",
    "test_predict = test_predict[:, -1, 0]\n",
    "\n",
    "print(f'ValY shape: {valY.shape}, Val_predict shape: {val_predict.shape}')\n",
    "print(f'TestY shape: {testY.shape}, Test_predict shape: {test_predict.shape}')"
   ]
  },
  {
   "cell_type": "markdown",
   "metadata": {},
   "source": [
    "## Plot val and test results"
   ]
  },
  {
   "cell_type": "code",
   "execution_count": null,
   "metadata": {},
   "outputs": [],
   "source": [
    "print(valY.shape)\n",
    "print(val_predict.shape)\n",
    "\n",
    "print(testY.shape)\n",
    "print(test_predict.shape)"
   ]
  },
  {
   "cell_type": "code",
   "execution_count": null,
   "metadata": {},
   "outputs": [],
   "source": [
    "# Evaluation function for model performance\n",
    "def evaluate_model(true_values, predicted_values, data_type='Validation'):\n",
    "    # Remove NaN values\n",
    "    mask = ~np.isnan(predicted_values)\n",
    "    print(mask.shape)\n",
    "    print(true_values.shape)\n",
    "    \n",
    "    true_values = true_values[mask]\n",
    "    predicted_values = predicted_values[mask]\n",
    "    \n",
    "    if len(true_values) > 0 and len(predicted_values) > 0:\n",
    "        rmse = np.sqrt(mean_squared_error(true_values, predicted_values))\n",
    "        mae = mean_absolute_error(true_values, predicted_values)\n",
    "        print(f'{data_type} Root Mean Squared Error (RMSE): {rmse:.2f}')\n",
    "        print(f'{data_type} Mean Absolute Error (MAE): {mae:.2f}')\n",
    "    else:\n",
    "        print(f'{data_type} evaluation skipped due to insufficient data.')"
   ]
  },
  {
   "cell_type": "code",
   "execution_count": null,
   "metadata": {},
   "outputs": [],
   "source": [
    "testY.shape"
   ]
  },
  {
   "cell_type": "code",
   "execution_count": null,
   "metadata": {},
   "outputs": [],
   "source": [
    "# Evaluate the model on the validation and test data\n",
    "# evaluate_model(valY, val_predict, 'Validation')\n",
    "evaluate_model(testY, test_predict, 'Test')\n",
    "\n",
    "plt.figure(figsize=(14, 7))\n",
    "plt.plot(test_data.index[30:], testY, label='True SIF')\n",
    "plt.plot(test_data.index[30:], test_predict, label='Predicted SIF')\n",
    "plt.legend()\n",
    "plt.show()"
   ]
  },
  {
   "cell_type": "code",
   "execution_count": null,
   "metadata": {},
   "outputs": [],
   "source": []
  }
 ],
 "metadata": {
  "kernelspec": {
   "display_name": "Python 3.11.9 ('sif_env': conda)",
   "language": "python",
   "name": "python3"
  },
  "language_info": {
   "codemirror_mode": {
    "name": "ipython",
    "version": 3
   },
   "file_extension": ".py",
   "mimetype": "text/x-python",
   "name": "python",
   "nbconvert_exporter": "python",
   "pygments_lexer": "ipython3",
   "version": "3.11.9"
  },
  "orig_nbformat": 4,
  "vscode": {
   "interpreter": {
    "hash": "83278524313050289be9b55fc6fbebd999bd0974b6bc6780a3338134148971fe"
   }
  }
 },
 "nbformat": 4,
 "nbformat_minor": 2
}
